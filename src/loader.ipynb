{
 "cells": [
  {
   "cell_type": "code",
   "execution_count": 1,
   "id": "ed9165c0-32d4-4f52-b5a5-7a8c92aa8e21",
   "metadata": {
    "execution": {
     "iopub.execute_input": "2025-07-11T21:36:13.800942Z",
     "iopub.status.busy": "2025-07-11T21:36:13.798491Z",
     "iopub.status.idle": "2025-07-11T21:36:14.386964Z",
     "shell.execute_reply": "2025-07-11T21:36:14.386309Z"
    }
   },
   "outputs": [
    {
     "name": "stdout",
     "output_type": "stream",
     "text": [
      "✅ Parsed portfolio weights:\n",
      "\n",
      "SGOV = 38.38%\n",
      "ULTY = 15.87%\n",
      "RDDT = 14.69%\n",
      "GOOGL = 9.79%\n",
      "META = 9.05%\n",
      "ASTS = 7.34%\n",
      "QQQM = 4.87%\n",
      "BRK/B = 0.00%\n",
      "HOOD = 0.00%\n",
      "INTU = 0.00%\n",
      "NBIS = 0.00%\n",
      "SHOP = 0.00%\n",
      "SNOW = 0.00%\n",
      "TQQQ = 0.00%\n",
      "\n",
      "✅ Total portfolio weight: 100.00%\n",
      "✅ Portfolio weights loaded and validated successfully.\n",
      "✅ Wrote: ../data/portfolio_weights.csv\n"
     ]
    }
   ],
   "source": [
    "import pandas as pd\n",
    "import os\n",
    "\n",
    "# --- Config ---\n",
    "excel_path = r\"E:\\STOCKS\\Portfolio.xlsx\"  # <-- Update this\n",
    "sheet_name = \"Dashboard\"\n",
    "col_ticker, col_weight = \"B\", \"L\"\n",
    "row_start, row_end = 7, 36  # inclusive\n",
    "output_file = \"../data/portfolio_weights.csv\"\n",
    "os.makedirs(os.path.dirname(output_file), exist_ok=True)\n",
    "\n",
    "# === LOAD TICKERS AND WEIGHTS ===\n",
    "nrows = row_end - row_start + 1\n",
    "df = pd.read_excel(\n",
    "    excel_path,\n",
    "    sheet_name=sheet_name,\n",
    "    usecols=f\"{col_ticker},{col_weight}\",\n",
    "    skiprows=row_start - 1,\n",
    "    nrows=nrows,\n",
    "    header=None,\n",
    "    names=[\"Ticker\", \"Weight\"]\n",
    ").dropna()\n",
    "\n",
    "# === CLEANING ===\n",
    "df[\"Ticker\"] = df[\"Ticker\"].astype(str).str.strip().replace({\"$\": \"SGOV\"})\n",
    "df[\"Weight\"] = pd.to_numeric(df[\"Weight\"], errors=\"coerce\")\n",
    "\n",
    "# === GROUP AND SUM DUPLICATE TICKERS ===\n",
    "df = df.groupby(\"Ticker\", as_index=False)[\"Weight\"].sum()\n",
    "\n",
    "# === BUILD FINAL WEIGHTS DICTIONARY ===\n",
    "WEIGHTS = dict(zip(df[\"Ticker\"], df[\"Weight\"]))\n",
    "total = sum(WEIGHTS.values())\n",
    "\n",
    "# === DEBUG PRINT (Sorted Descending) ===\n",
    "print(\"✅ Parsed portfolio weights:\\n\")\n",
    "for ticker, weight in sorted(WEIGHTS.items(), key=lambda x: x[1], reverse=True):\n",
    "    print(f'{ticker} = {weight * 100:.2f}%')\n",
    "print(f\"\\n✅ Total portfolio weight: {total * 100:.2f}%\")\n",
    "\n",
    "# === VALIDATION ===\n",
    "if not abs(total - 1.0) < 1e-6:\n",
    "    raise ValueError(f\"❌ Portfolio weights sum to {total:.4f}, expected 1.0.\")\n",
    "print(\"✅ Portfolio weights loaded and validated successfully.\")\n",
    "\n",
    "# === EXPORT TO CSV ===\n",
    "\n",
    "# Sort: non-zero weights (descending), then zero weights (alphabetical)\n",
    "nonzero_df = df[df[\"Weight\"] > 0].sort_values(by=\"Weight\", ascending=False)\n",
    "zero_df = df[df[\"Weight\"] == 0].sort_values(by=\"Ticker\")\n",
    "export_df = pd.concat([nonzero_df, zero_df], ignore_index=True)\n",
    "\n",
    "# Write to CSV\n",
    "os.makedirs(os.path.dirname(output_file), exist_ok=True)\n",
    "export_df.to_csv(output_file, index=False)\n",
    "print(f\"✅ Wrote: {output_file}\")\n"
   ]
  },
  {
   "cell_type": "code",
   "execution_count": null,
   "id": "15faa5f4-fd58-4d56-9bd7-f047169fa004",
   "metadata": {},
   "outputs": [],
   "source": []
  }
 ],
 "metadata": {
  "kernelspec": {
   "display_name": "Python 3 (ipykernel)",
   "language": "python",
   "name": "python3"
  },
  "language_info": {
   "codemirror_mode": {
    "name": "ipython",
    "version": 3
   },
   "file_extension": ".py",
   "mimetype": "text/x-python",
   "name": "python",
   "nbconvert_exporter": "python",
   "pygments_lexer": "ipython3",
   "version": "3.13.3"
  }
 },
 "nbformat": 4,
 "nbformat_minor": 5
}
